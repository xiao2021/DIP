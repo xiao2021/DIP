{
 "cells": [
  {
   "cell_type": "code",
   "execution_count": 15,
   "metadata": {},
   "outputs": [],
   "source": [
    "import cv2  \n",
    "import numpy as np  \n",
    "\n",
    "#读取原始图像\n",
    "img = cv2.imread('first\\gege.jpg')\n",
    "\n",
    "#图像转为灰度图\n",
    "grayImage = cv2.cvtColor(img, cv2.COLOR_BGR2GRAY)\n",
    "\n",
    "#获取图像高度和宽度\n",
    "height = grayImage.shape[0]\n",
    "width = grayImage.shape[1]\n",
    "\n",
    "#创建图像\n",
    "result = np.zeros((height, width, 3), np.uint8)\n",
    "\n",
    "#图像灰度线性变换\n",
    "for i in range(height):\n",
    "    for j in range(width):\n",
    "        point = 255 - grayImage[i,j] \n",
    "        result[i,j] = np.uint8(point)\n",
    "\n",
    "#图像灰度分段线性变换\n",
    "# for i in range(height):\n",
    "#     for j in range(width):\n",
    "#         if (0 <= grayImage[i,j] < 100):\n",
    "#             point = grayImage[i,j] + 30\n",
    "#         elif (100 <= grayImage[i,j] < 150):\n",
    "#             point = grayImage[i,j] + 10\n",
    "#         else:\n",
    "#             point = grayImage[i,j] - 30\n",
    "#         result[i,j] = np.uint8(point)\n",
    "\n",
    "#图像灰度非线性变换(开方)\n",
    "# for i in range(height):\n",
    "#     for j in range(width):\n",
    "#         point = int(np.sqrt(grayImage[i,j])) + 200\n",
    "#         result[i,j] = np.uint8(point)\n",
    "\n",
    "#图像灰度非线性变换(sgn)\n",
    "# for i in range(height):\n",
    "#     for j in range(width):\n",
    "#         if (0 <= grayImage[i,j] < 100):\n",
    "#             point = 0\n",
    "#         elif (100 <= grayImage[i,j] < 150):\n",
    "#             point = 125\n",
    "#         else:\n",
    "#             point = 255\n",
    "#         result[i,j] = np.uint8(point)\n",
    "\n",
    "#显示图像\n",
    "cv2.imshow(\"Gray Image\", grayImage)\n",
    "cv2.imshow(\"Result\", result)\n",
    "cv2.waitKey(0)\n",
    "cv2.destroyAllWindows()"
   ]
  }
 ],
 "metadata": {
  "kernelspec": {
   "display_name": "llk",
   "language": "python",
   "name": "python3"
  },
  "language_info": {
   "codemirror_mode": {
    "name": "ipython",
    "version": 3
   },
   "file_extension": ".py",
   "mimetype": "text/x-python",
   "name": "python",
   "nbconvert_exporter": "python",
   "pygments_lexer": "ipython3",
   "version": "3.9.0"
  },
  "orig_nbformat": 4
 },
 "nbformat": 4,
 "nbformat_minor": 2
}
